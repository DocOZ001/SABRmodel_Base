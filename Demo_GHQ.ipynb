{
 "cells": [
  {
   "cell_type": "markdown",
   "metadata": {},
   "source": [
    "# Gauss-Hermite Quadrature\n",
    "## Efficient numerical integration method with weight function exp(-x^2)\n",
    "## You need this for implementing Kennedy's method"
   ]
  },
  {
   "cell_type": "markdown",
   "metadata": {},
   "source": [
    "There are two versions: \n",
    "* [Probabilists’ Gauss-Hermite module](https://docs.scipy.org/doc/numpy-1.13.0/reference/routines.polynomials.hermite_e.html):\n",
    "integration weight is the standard normal PDF: exp(-x^2/2)\n",
    "\n",
    "* [Physicists’ Gauss-Hermite module](https://docs.scipy.org/doc/numpy-1.13.0/reference/routines.polynomials.hermite.html):\n",
    "integration weight is exp(-x^2)\n",
    "\n",
    "We mostly use __Probabilists’ Gauss-Hermite module__. You still need to devide the weight by sqrt(2*pi) for use with normal PDF"
   ]
  },
  {
   "cell_type": "code",
   "execution_count": 48,
   "metadata": {
    "collapsed": false
   },
   "outputs": [],
   "source": [
    "import numpy as np\n",
    "import numpy.polynomial as nppoly\n",
    "import scipy\n",
    "import scipy.stats as ss\n",
    "import matplotlib.pyplot as plt"
   ]
  },
  {
   "cell_type": "code",
   "execution_count": 31,
   "metadata": {
    "collapsed": true
   },
   "outputs": [],
   "source": [
    "const = 1/np.sqrt(2.0*np.pi)"
   ]
  },
  {
   "cell_type": "code",
   "execution_count": 102,
   "metadata": {
    "collapsed": false
   },
   "outputs": [
    {
     "name": "stdout",
     "output_type": "stream",
     "text": [
      "[-2.33441422 -0.74196378  0.74196378  2.33441422]\n",
      "[  1.25780067e-13   2.48206236e-10   6.12749026e-08   4.40212109e-06\n",
      "   1.28826280e-04   1.83010313e-03   1.39978374e-02   6.15063721e-02\n",
      "   1.61739334e-01   2.60793063e-01   2.60793063e-01   1.61739334e-01\n",
      "   6.15063721e-02   1.39978374e-02   1.83010313e-03   1.28826280e-04\n",
      "   4.40212109e-06   6.12749026e-08   2.48206236e-10   1.25780067e-13]\n"
     ]
    }
   ],
   "source": [
    "z, w = nppoly.hermite_e.hermegauss(deg=20)\n",
    "w = w*const\n",
    "print(x)\n",
    "print(w)"
   ]
  },
  {
   "cell_type": "code",
   "execution_count": 104,
   "metadata": {
    "collapsed": false
   },
   "outputs": [
    {
     "data": {
      "image/png": "[encoded data removed]",
      "text/plain": [
       "<matplotlib.figure.Figure at 0x9fafe10>"
      ]
     },
     "metadata": {},
     "output_type": "display_data"
    }
   ],
   "source": [
    "pdf = ss.norm.pdf(z)\n",
    "plt.plot(z, np.log(w))\n",
    "plt.plot(z, np.log(pdf))\n",
    "plt.grid()\n",
    "plt.show()"
   ]
  },
  {
   "cell_type": "markdown",
   "metadata": {},
   "source": [
    "## Exact integration of polynomials with degree upto _2*deg-1_"
   ]
  },
  {
   "cell_type": "code",
   "execution_count": 91,
   "metadata": {
    "collapsed": false
   },
   "outputs": [
    {
     "data": {
      "text/plain": [
       "1.0"
      ]
     },
     "execution_count": 91,
     "metadata": {},
     "output_type": "execute_result"
    }
   ],
   "source": [
    "z, w = nppoly.hermite_e.hermegauss(deg=4)\n",
    "w = w*const\n",
    "sum(w)"
   ]
  },
  {
   "cell_type": "code",
   "execution_count": 92,
   "metadata": {
    "collapsed": false
   },
   "outputs": [
    {
     "name": "stdout",
     "output_type": "stream",
     "text": [
      "[0.99999999999999922, 2.9999999999999964, 14.99999999999998, 80.999999999999901, 440.99999999999949, 2402.9999999999973, 13094.999999999989]\n"
     ]
    }
   ],
   "source": [
    "# Let's test on the moments of normal distribution\n",
    "deg = np.array([2,4,6,8,10,12,14])\n",
    "moments = [sum(z**2 * w), sum(z**4 * w), sum(z**6 * w), sum(z**8 * w), sum(z**10 * w), sum(z**12 * w), sum(z**14 * w)]\n",
    "print(moments)"
   ]
  },
  {
   "cell_type": "code",
   "execution_count": 93,
   "metadata": {
    "collapsed": false
   },
   "outputs": [
    {
     "data": {
      "text/plain": [
       "array([  1.00000000e+00,   3.00000000e+00,   1.50000000e+01,\n",
       "         1.05000000e+02,   9.45000000e+02,   1.03950000e+04,\n",
       "         1.35135000e+05])"
      ]
     },
     "execution_count": 93,
     "metadata": {},
     "output_type": "execute_result"
    }
   ],
   "source": [
    "# luckily we know the exact answer: (2*deg-1)!! \n",
    "scipy.misc.factorial2([1,3,5,7,9,11,13])"
   ]
  },
  {
   "cell_type": "code",
   "execution_count": 94,
   "metadata": {
    "collapsed": false
   },
   "outputs": [
    {
     "data": {
      "text/plain": [
       "array([2, 4, 6])"
      ]
     },
     "execution_count": 94,
     "metadata": {},
     "output_type": "execute_result"
    }
   ],
   "source": [
    "# Find out upto which degree integration is correct\n",
    "deg[np.abs(moments - scipy.misc.factorial2([1,3,5,7,9,11,13])) < 0.1 ]"
   ]
  },
  {
   "cell_type": "markdown",
   "metadata": {},
   "source": [
    "# Overall GHQ is very accurate for integrating smooth functions"
   ]
  },
  {
   "cell_type": "code",
   "execution_count": 99,
   "metadata": {
    "collapsed": true
   },
   "outputs": [],
   "source": [
    "# Let's test on Geometric Brownian Motion:\n",
    "spot = 100\n",
    "texp = 2\n",
    "vol = 0.2"
   ]
  },
  {
   "cell_type": "code",
   "execution_count": 119,
   "metadata": {
    "collapsed": false
   },
   "outputs": [
    {
     "name": "stdout",
     "output_type": "stream",
     "text": [
      "[  23.35839909   31.983697     43.79396334   59.96527623   82.10799112\n",
      "  112.42710165  153.94181507  210.78620794  288.6209016   395.19675245]\n"
     ]
    }
   ],
   "source": [
    "z = np.linspace(-5,5,10)\n",
    "price = spot * np.exp(vol*np.sqrt(texp)*z - 0.5*vol*vol*texp)\n",
    "print(price)"
   ]
  },
  {
   "cell_type": "code",
   "execution_count": null,
   "metadata": {
    "collapsed": false
   },
   "outputs": [],
   "source": []
  },
  {
   "cell_type": "code",
   "execution_count": 128,
   "metadata": {
    "collapsed": false
   },
   "outputs": [
    {
     "data": {
      "text/plain": [
       "-1.4210854715202004e-14"
      ]
     },
     "execution_count": 128,
     "metadata": {},
     "output_type": "execute_result"
    }
   ],
   "source": [
    "# Let's check the expectation of the prices are same as 100 (assuming 0 interest rate)\n",
    "z, w = nppoly.hermite_e.hermegauss(deg=10)\n",
    "w = w*const\n",
    "price = spot * np.exp(vol*np.sqrt(texp)*z - 0.5*vol*vol*texp)\n",
    "price_mean = sum(price * w)\n",
    "price_mean - 100"
   ]
  },
  {
   "cell_type": "code",
   "execution_count": 129,
   "metadata": {
    "collapsed": false
   },
   "outputs": [
    {
     "data": {
      "image/png": "[encoded data removed]",
      "text/plain": [
       "<matplotlib.figure.Figure at 0xa1a94e0>"
      ]
     },
     "metadata": {},
     "output_type": "display_data"
    }
   ],
   "source": [
    "plt.plot(price, w, 'o-')\n",
    "plt.grid()\n",
    "plt.show()"
   ]
  },
  {
   "cell_type": "code",
   "execution_count": null,
   "metadata": {
    "collapsed": true
   },
   "outputs": [],
   "source": []
  }
 ],
 "metadata": {
  "anaconda-cloud": {},
  "kernelspec": {
   "display_name": "Python [default]",
   "language": "python",
   "name": "python3"
  },
  "language_info": {
   "codemirror_mode": {
    "name": "ipython",
    "version": 3
   },
   "file_extension": ".py",
   "mimetype": "text/x-python",
   "name": "python",
   "nbconvert_exporter": "python",
   "pygments_lexer": "ipython3",
   "version": "3.5.2"
  }
 },
 "nbformat": 4,
 "nbformat_minor": 1
}
